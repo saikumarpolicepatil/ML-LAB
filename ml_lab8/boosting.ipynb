{
  "nbformat": 4,
  "nbformat_minor": 0,
  "metadata": {
    "colab": {
      "provenance": [],
      "include_colab_link": true
    },
    "kernelspec": {
      "name": "python3",
      "display_name": "Python 3"
    },
    "language_info": {
      "name": "python"
    }
  },
  "cells": [
    {
      "cell_type": "markdown",
      "metadata": {
        "id": "view-in-github",
        "colab_type": "text"
      },
      "source": [
        "<a href=\"https://colab.research.google.com/github/saikumarpolicepatil/ML-LAB/blob/main/ml_lab8/boosting.ipynb\" target=\"_parent\"><img src=\"https://colab.research.google.com/assets/colab-badge.svg\" alt=\"Open In Colab\"/></a>"
      ]
    },
    {
      "cell_type": "code",
      "source": [
        "from sklearn.datasets import load_breast_cancer\n",
        "\n",
        "#Load the breast cancer dataset\n",
        "x, y = load_breast_cancer(return_X_y=True)"
      ],
      "metadata": {
        "id": "lyfWLnQmEKFp"
      },
      "execution_count": 3,
      "outputs": []
    },
    {
      "cell_type": "code",
      "source": [
        "from sklearn.model_selection import train_test_split\n",
        "\n",
        "#Split the dataset into 70% training set and 30% testing set\n",
        "x_train, x_test, y_train, y_test = train_test_split(x, y, test_size=0.3,   random_state=23)"
      ],
      "metadata": {
        "id": "Lbz7xJU1Elf9"
      },
      "execution_count": 4,
      "outputs": []
    },
    {
      "cell_type": "code",
      "source": [
        "from sklearn.tree import DecisionTreeClassifier\n",
        "from sklearn.metrics import accuracy_score\n",
        "\n",
        "#Train a Decision tree classifier\n",
        "dtree = DecisionTreeClassifier(max_depth=3, random_state=23)\n",
        "dtree.fit(x_train,y_train)\n",
        "dt_pred = dtree.predict(x_test)\n",
        "\n",
        "dt_acc = round(accuracy_score(y_test,dt_pred),3)\n",
        "print(f\"Decision Tree Classifier Accuracy Score: \", dt_acc)"
      ],
      "metadata": {
        "id": "DHT6sRX5EoG6",
        "outputId": "cb65d2bc-6266-4d62-8858-d723bf655431",
        "colab": {
          "base_uri": "https://localhost:8080/"
        }
      },
      "execution_count": 6,
      "outputs": [
        {
          "output_type": "stream",
          "name": "stdout",
          "text": [
            "Decision Tree Classifier Accuracy Score:  0.953\n"
          ]
        }
      ]
    },
    {
      "cell_type": "code",
      "source": [
        "from sklearn.ensemble import AdaBoostClassifier\n",
        "\n",
        "#AdaBoost Model using Decision Tree Classifier\n",
        "ada = AdaBoostClassifier(n_estimators=50,learning_rate=0.6)\n",
        "ada.fit(x_train,y_train)\n",
        "ada_pred = ada.predict(x_test)\n",
        "\n",
        "ada_acc = round(accuracy_score(y_test,ada_pred),3)\n",
        "print(f\"Decision Tree AdaBoost Model Accuracy Score: \", ada_acc)"
      ],
      "metadata": {
        "id": "cZvyLyMOEtFi",
        "outputId": "3bb539e6-d774-4a2c-d0d2-5a31f3919628",
        "colab": {
          "base_uri": "https://localhost:8080/"
        }
      },
      "execution_count": 7,
      "outputs": [
        {
          "output_type": "stream",
          "name": "stdout",
          "text": [
            "Decision Tree AdaBoost Model Accuracy Score:  0.982\n"
          ]
        }
      ]
    },
    {
      "cell_type": "code",
      "source": [
        "import numpy as np\n",
        "import matplotlib.pyplot as plt\n",
        "\n",
        "#Compare the Accuracy Scores through Visualization\n",
        "plt.figure(figsize=(10,2))\n",
        "plt.barh(np.arange(2),[dt_acc,ada_acc],\n",
        "         tick_label=['Decision Tree','AdaBoost'])"
      ],
      "metadata": {
        "id": "-3jSwrT-EwCa",
        "outputId": "a7297bdd-fb0b-4471-8340-d5b96f4a6f2f",
        "colab": {
          "base_uri": "https://localhost:8080/",
          "height": 231
        }
      },
      "execution_count": 8,
      "outputs": [
        {
          "output_type": "execute_result",
          "data": {
            "text/plain": [
              "<BarContainer object of 2 artists>"
            ]
          },
          "metadata": {},
          "execution_count": 8
        },
        {
          "output_type": "display_data",
          "data": {
            "text/plain": [
              "<Figure size 1000x200 with 1 Axes>"
            ],
            "image/png": "[encoded data removed]"
          },
          "metadata": {}
        }
      ]
    }
  ]
}