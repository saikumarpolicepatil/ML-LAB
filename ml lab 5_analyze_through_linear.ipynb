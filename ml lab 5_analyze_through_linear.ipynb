{
  "nbformat": 4,
  "nbformat_minor": 0,
  "metadata": {
    "colab": {
      "provenance": [],
      "include_colab_link": true
    },
    "kernelspec": {
      "name": "python3",
      "display_name": "Python 3"
    },
    "language_info": {
      "name": "python"
    }
  },
  "cells": [
    {
      "cell_type": "markdown",
      "metadata": {
        "id": "view-in-github",
        "colab_type": "text"
      },
      "source": [
        "<a href=\"https://colab.research.google.com/github/saikumarpolicepatil/ML-LAB/blob/main/ml%20lab%205_analyze_through_linear.ipynb\" target=\"_parent\"><img src=\"https://colab.research.google.com/assets/colab-badge.svg\" alt=\"Open In Colab\"/></a>"
      ]
    },
    {
      "cell_type": "code",
      "execution_count": 1,
      "metadata": {
        "id": "N52IUR7bZxNt"
      },
      "outputs": [],
      "source": [
        "import numpy as np\n",
        "from sklearn.linear_model import LinearRegression"
      ]
    },
    {
      "cell_type": "code",
      "source": [
        "# Sample data\n",
        "X = np.array([[1], [2], [3], [4]])\n",
        "y = np.array([2, 3, 4, 5])"
      ],
      "metadata": {
        "id": "HQwzgPBU-wIZ"
      },
      "execution_count": 2,
      "outputs": []
    },
    {
      "cell_type": "code",
      "source": [
        "# Create and fit the model\n",
        "model = LinearRegression().fit(X, y)"
      ],
      "metadata": {
        "id": "lBB-MXEC-zJJ"
      },
      "execution_count": 3,
      "outputs": []
    },
    {
      "cell_type": "code",
      "source": [
        "# Coefficient (slope)\n",
        "m = model.coef_\n",
        "print(\"Coefficient (slope):\", m)"
      ],
      "metadata": {
        "id": "hA8OjNAh-2Gg",
        "outputId": "a4c52c01-ec0d-4430-9656-6e70ab5c3fbf",
        "colab": {
          "base_uri": "https://localhost:8080/"
        }
      },
      "execution_count": 4,
      "outputs": [
        {
          "output_type": "stream",
          "name": "stdout",
          "text": [
            "Coefficient (slope): [1.]\n"
          ]
        }
      ]
    },
    {
      "cell_type": "code",
      "source": [
        "# Intercept\n",
        "b = model.intercept_\n",
        "print(\"Intercept:\", b)"
      ],
      "metadata": {
        "id": "mXgLC0Ro-5XU",
        "outputId": "ff84d0bc-b4fa-4c36-bcb0-5602c99f5e99",
        "colab": {
          "base_uri": "https://localhost:8080/"
        }
      },
      "execution_count": 5,
      "outputs": [
        {
          "output_type": "stream",
          "name": "stdout",
          "text": [
            "Intercept: 1.0\n"
          ]
        }
      ]
    }
  ]
}